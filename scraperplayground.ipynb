{
 "cells": [
  {
   "cell_type": "code",
   "execution_count": 2,
   "metadata": {},
   "outputs": [],
   "source": [
    "%load_ext autoreload\n",
    "%autoreload 2"
   ]
  },
  {
   "cell_type": "code",
   "execution_count": 5,
   "metadata": {},
   "outputs": [],
   "source": [
    "from TwitterScraper import *"
   ]
  },
  {
   "cell_type": "code",
   "execution_count": 22,
   "metadata": {},
   "outputs": [
    {
     "name": "stderr",
     "output_type": "stream",
     "text": [
      "processed 148625 tweets - :  11%|█▏        | 69006/604800 [40:35<5:56:50, 25.03it/s]"
     ]
    },
    {
     "name": "stdout",
     "output_type": "stream",
     "text": [
      "Response page: 73, 81\n"
     ]
    },
    {
     "name": "stderr",
     "output_type": "stream",
     "text": [
      "processed 148706 tweets - :  11%|█▏        | 69042/604800 [40:36<6:06:09, 24.39it/s]"
     ]
    },
    {
     "name": "stdout",
     "output_type": "stream",
     "text": [
      "Response page: 73, 85\n"
     ]
    },
    {
     "name": "stderr",
     "output_type": "stream",
     "text": [
      "processed 148791 tweets - :  11%|█▏        | 69080/604800 [40:38<6:02:14, 24.65it/s]"
     ]
    },
    {
     "name": "stdout",
     "output_type": "stream",
     "text": [
      "Response page: 73, 77\n"
     ]
    },
    {
     "name": "stderr",
     "output_type": "stream",
     "text": [
      "processed 148868 tweets - :  11%|█▏        | 69111/604800 [40:39<6:24:12, 23.24it/s]"
     ]
    },
    {
     "name": "stdout",
     "output_type": "stream",
     "text": [
      "Response page: 73, 88\n"
     ]
    },
    {
     "name": "stderr",
     "output_type": "stream",
     "text": [
      "processed 148956 tweets - :  11%|█▏        | 69145/604800 [40:41<6:31:09, 22.82it/s]"
     ]
    },
    {
     "name": "stdout",
     "output_type": "stream",
     "text": [
      "Response page: 73, 84\n"
     ]
    },
    {
     "name": "stderr",
     "output_type": "stream",
     "text": [
      "processed 149040 tweets - :  11%|█▏        | 69176/604800 [40:42<6:47:13, 21.92it/s]"
     ]
    },
    {
     "name": "stdout",
     "output_type": "stream",
     "text": [
      "Response page: 73, 86\n"
     ]
    },
    {
     "name": "stderr",
     "output_type": "stream",
     "text": [
      "processed 149126 tweets - :  11%|█▏        | 69217/604800 [40:44<6:20:20, 23.47it/s]"
     ]
    },
    {
     "name": "stdout",
     "output_type": "stream",
     "text": [
      "Response page: 73, 78\n"
     ]
    },
    {
     "name": "stderr",
     "output_type": "stream",
     "text": [
      "processed 149204 tweets - :  11%|█▏        | 69247/604800 [40:45<6:40:51, 22.27it/s]"
     ]
    },
    {
     "name": "stdout",
     "output_type": "stream",
     "text": [
      "Response page: 73, 77\n"
     ]
    },
    {
     "name": "stderr",
     "output_type": "stream",
     "text": [
      "processed 149281 tweets - :  11%|█▏        | 69269/604800 [40:47<7:26:17, 20.00it/s]"
     ]
    },
    {
     "name": "stdout",
     "output_type": "stream",
     "text": [
      "Response page: 73, 63\n"
     ]
    },
    {
     "name": "stderr",
     "output_type": "stream",
     "text": [
      "processed 149344 tweets - :  11%|█▏        | 69300/604800 [40:48<7:30:24, 19.82it/s]"
     ]
    },
    {
     "name": "stdout",
     "output_type": "stream",
     "text": [
      "Response page: 73, 60\n"
     ]
    },
    {
     "name": "stderr",
     "output_type": "stream",
     "text": [
      "processed 151385 tweets - :  12%|█▏        | 70228/604800 [41:23<5:23:30, 27.54it/s]"
     ]
    },
    {
     "name": "stdout",
     "output_type": "stream",
     "text": [
      "Response page: 75, 85\n"
     ]
    },
    {
     "name": "stderr",
     "output_type": "stream",
     "text": [
      "processed 151470 tweets - :  12%|█▏        | 70264/604800 [41:24<5:41:43, 26.07it/s]"
     ]
    },
    {
     "name": "stdout",
     "output_type": "stream",
     "text": [
      "Response page: 75, 85\n"
     ]
    },
    {
     "name": "stderr",
     "output_type": "stream",
     "text": [
      "processed 151555 tweets - :  12%|█▏        | 70297/604800 [41:26<6:03:56, 24.48it/s]"
     ]
    },
    {
     "name": "stdout",
     "output_type": "stream",
     "text": [
      "Response page: 75, 82\n"
     ]
    },
    {
     "name": "stderr",
     "output_type": "stream",
     "text": [
      "processed 151637 tweets - :  12%|█▏        | 70336/604800 [41:27<6:01:04, 24.67it/s]"
     ]
    },
    {
     "name": "stdout",
     "output_type": "stream",
     "text": [
      "Response page: 75, 81\n"
     ]
    },
    {
     "name": "stderr",
     "output_type": "stream",
     "text": [
      "processed 151718 tweets - :  12%|█▏        | 70374/604800 [41:29<6:01:39, 24.63it/s]"
     ]
    },
    {
     "name": "stdout",
     "output_type": "stream",
     "text": [
      "Response page: 75, 79\n"
     ]
    },
    {
     "name": "stderr",
     "output_type": "stream",
     "text": [
      "processed 151797 tweets - :  12%|█▏        | 70409/604800 [41:30<6:10:50, 24.02it/s]"
     ]
    },
    {
     "name": "stdout",
     "output_type": "stream",
     "text": [
      "Response page: 75, 83\n"
     ]
    },
    {
     "name": "stderr",
     "output_type": "stream",
     "text": [
      "processed 151880 tweets - :  12%|█▏        | 70435/604800 [41:32<6:46:23, 21.92it/s]"
     ]
    },
    {
     "name": "stdout",
     "output_type": "stream",
     "text": [
      "Response page: 75, 56\n"
     ]
    },
    {
     "name": "stderr",
     "output_type": "stream",
     "text": [
      "processed 151936 tweets - :  12%|█▏        | 70459/604800 [41:34<7:22:54, 20.11it/s]"
     ]
    },
    {
     "name": "stdout",
     "output_type": "stream",
     "text": [
      "Response page: 75, 69\n"
     ]
    },
    {
     "name": "stderr",
     "output_type": "stream",
     "text": [
      "processed 152005 tweets - :  12%|█▏        | 70496/604800 [41:35<6:57:32, 21.33it/s]"
     ]
    },
    {
     "name": "stdout",
     "output_type": "stream",
     "text": [
      "Response page: 75, 78\n"
     ]
    },
    {
     "name": "stderr",
     "output_type": "stream",
     "text": [
      "processed 382859 tweets - :  28%|██▊       | 172160/604800 [1:45:04<6:29:20, 18.52it/s]"
     ]
    },
    {
     "name": "stdout",
     "output_type": "stream",
     "text": [
      "Response page: 190, 85\n"
     ]
    },
    {
     "name": "stderr",
     "output_type": "stream",
     "text": [
      "processed 462291 tweets - :  33%|███▎      | 202448/604800 [2:07:01<4:36:49, 24.22it/s]"
     ]
    },
    {
     "name": "stdout",
     "output_type": "stream",
     "text": [
      "Response page: 251, 69\n"
     ]
    },
    {
     "name": "stderr",
     "output_type": "stream",
     "text": [
      "processed 750778 tweets - :  54%|█████▍    | 327139/604800 [3:27:21<2:55:59, 26.29it/s]\n"
     ]
    },
    {
     "ename": "Exception",
     "evalue": "(503, '{\"title\":\"Service Unavailable\",\"detail\":\"Service Unavailable\",\"type\":\"about:blank\",\"status\":503}')",
     "output_type": "error",
     "traceback": [
      "\u001b[0;31m---------------------------------------------------------------------------\u001b[0m",
      "\u001b[0;31mException\u001b[0m                                 Traceback (most recent call last)",
      "Input \u001b[0;32mIn [22]\u001b[0m, in \u001b[0;36m<module>\u001b[0;34m\u001b[0m\n\u001b[1;32m      1\u001b[0m \u001b[38;5;66;03m#takes about 1 min 12 secs for first result\u001b[39;00m\n\u001b[0;32m----> 2\u001b[0m jr \u001b[38;5;241m=\u001b[39m \u001b[43mrunTwitterScraper\u001b[49m\u001b[43m(\u001b[49m\u001b[43m)\u001b[49m\n",
      "File \u001b[0;32m~/Documents/nosync.nosync/psychScraper/psychologyScraper/TwitterScraper.py:68\u001b[0m, in \u001b[0;36mrunTwitterScraper\u001b[0;34m(location)\u001b[0m\n\u001b[1;32m     66\u001b[0m time\u001b[38;5;241m.\u001b[39msleep(\u001b[38;5;241m1\u001b[39m)\n\u001b[1;32m     67\u001b[0m counter \u001b[38;5;241m+\u001b[39m\u001b[38;5;241m=\u001b[39m \u001b[38;5;241m1\u001b[39m\n\u001b[0;32m---> 68\u001b[0m json_response \u001b[38;5;241m=\u001b[39m \u001b[43mconnect_to_endpoint\u001b[49m\u001b[43m(\u001b[49m\u001b[43murl\u001b[49m\u001b[43m[\u001b[49m\u001b[38;5;241;43m0\u001b[39;49m\u001b[43m]\u001b[49m\u001b[43m,\u001b[49m\u001b[43m \u001b[49m\u001b[43m{\u001b[49m\u001b[38;5;124;43m\"\u001b[39;49m\u001b[38;5;124;43mAuthorization\u001b[39;49m\u001b[38;5;124;43m\"\u001b[39;49m\u001b[43m:\u001b[49m\u001b[43m \u001b[49m\u001b[38;5;124;43m\"\u001b[39;49m\u001b[38;5;124;43mBearer \u001b[39;49m\u001b[38;5;132;43;01m{}\u001b[39;49;00m\u001b[38;5;124;43m\"\u001b[39;49m\u001b[38;5;241;43m.\u001b[39;49m\u001b[43mformat\u001b[49m\u001b[43m(\u001b[49m\u001b[43mconfig\u001b[49m\u001b[38;5;241;43m.\u001b[39;49m\u001b[43mtwitter_bearer_token\u001b[49m\u001b[43m[\u001b[49m\u001b[43mcounter\u001b[49m\u001b[43m \u001b[49m\u001b[38;5;241;43m%\u001b[39;49m\u001b[43m \u001b[49m\u001b[38;5;241;43m5\u001b[39;49m\u001b[43m]\u001b[49m\u001b[43m)\u001b[49m\u001b[43m}\u001b[49m\u001b[43m,\u001b[49m\u001b[43m \u001b[49m\u001b[43murl\u001b[49m\u001b[43m[\u001b[49m\u001b[38;5;241;43m1\u001b[39;49m\u001b[43m]\u001b[49m\u001b[43m,\u001b[49m\u001b[43m \u001b[49m\u001b[43mnextToken\u001b[49m\u001b[43m)\u001b[49m\n\u001b[1;32m     69\u001b[0m tweets_processed \u001b[38;5;241m+\u001b[39m\u001b[38;5;241m=\u001b[39m json_response[\u001b[38;5;124m'\u001b[39m\u001b[38;5;124mmeta\u001b[39m\u001b[38;5;124m'\u001b[39m][\u001b[38;5;124m'\u001b[39m\u001b[38;5;124mresult_count\u001b[39m\u001b[38;5;124m'\u001b[39m]\n\u001b[1;32m     70\u001b[0m page_oldest_date \u001b[38;5;241m=\u001b[39m parser\u001b[38;5;241m.\u001b[39mparse(([i \u001b[38;5;28;01mfor\u001b[39;00m i \u001b[38;5;129;01min\u001b[39;00m json_response[\u001b[38;5;124m'\u001b[39m\u001b[38;5;124mdata\u001b[39m\u001b[38;5;124m'\u001b[39m] \u001b[38;5;28;01mif\u001b[39;00m i[\u001b[38;5;124m'\u001b[39m\u001b[38;5;124mid\u001b[39m\u001b[38;5;124m'\u001b[39m] \u001b[38;5;241m==\u001b[39m json_response[\u001b[38;5;124m'\u001b[39m\u001b[38;5;124mmeta\u001b[39m\u001b[38;5;124m'\u001b[39m][\u001b[38;5;124m'\u001b[39m\u001b[38;5;124moldest_id\u001b[39m\u001b[38;5;124m'\u001b[39m]][\u001b[38;5;241m0\u001b[39m][\u001b[38;5;124m'\u001b[39m\u001b[38;5;124mcreated_at\u001b[39m\u001b[38;5;124m'\u001b[39m]))\n",
      "File \u001b[0;32m~/Documents/nosync.nosync/psychScraper/psychologyScraper/TwitterScraper.py:33\u001b[0m, in \u001b[0;36mconnect_to_endpoint\u001b[0;34m(url, headers, params, next_token)\u001b[0m\n\u001b[1;32m     31\u001b[0m \u001b[38;5;66;03m# print(\"Endpoint Response Code: \" + str(response.status_code))\u001b[39;00m\n\u001b[1;32m     32\u001b[0m \u001b[38;5;28;01mif\u001b[39;00m response\u001b[38;5;241m.\u001b[39mstatus_code \u001b[38;5;241m!=\u001b[39m \u001b[38;5;241m200\u001b[39m:\n\u001b[0;32m---> 33\u001b[0m     \u001b[38;5;28;01mraise\u001b[39;00m \u001b[38;5;167;01mException\u001b[39;00m(response\u001b[38;5;241m.\u001b[39mstatus_code, response\u001b[38;5;241m.\u001b[39mtext)\n\u001b[1;32m     34\u001b[0m \u001b[38;5;28;01mreturn\u001b[39;00m response\u001b[38;5;241m.\u001b[39mjson()\n",
      "\u001b[0;31mException\u001b[0m: (503, '{\"title\":\"Service Unavailable\",\"detail\":\"Service Unavailable\",\"type\":\"about:blank\",\"status\":503}')"
     ]
    }
   ],
   "source": [
    "#takes about 1 min 12 secs for first result\n",
    "jr = runTwitterScraper()"
   ]
  },
  {
   "cell_type": "code",
   "execution_count": 6,
   "metadata": {},
   "outputs": [],
   "source": [
    "import pandas as pd\n",
    "from collections import Counter"
   ]
  },
  {
   "cell_type": "code",
   "execution_count": 7,
   "metadata": {},
   "outputs": [],
   "source": [
    "from nltk.corpus import stopwords"
   ]
  },
  {
   "cell_type": "code",
   "execution_count": 9,
   "metadata": {},
   "outputs": [
    {
     "name": "stdout",
     "output_type": "stream",
     "text": [
      "wrote test.txt to output.csv\n"
     ]
    }
   ],
   "source": [
    "to_pd = write_to_csv()"
   ]
  },
  {
   "cell_type": "code",
   "execution_count": 10,
   "metadata": {},
   "outputs": [],
   "source": [
    "words = get_relevant_words(to_pd)"
   ]
  },
  {
   "cell_type": "code",
   "execution_count": 11,
   "metadata": {},
   "outputs": [],
   "source": [
    "tdf = pd.DataFrame(to_pd)"
   ]
  },
  {
   "cell_type": "code",
   "execution_count": 12,
   "metadata": {},
   "outputs": [
    {
     "data": {
      "text/plain": [
       "368336361              8\n",
       "2335424845             4\n",
       "1106630086504210433    4\n",
       "592118686              4\n",
       "65581806               4\n",
       "dtype: int64"
      ]
     },
     "execution_count": 12,
     "metadata": {},
     "output_type": "execute_result"
    }
   ],
   "source": [
    "pd.Series(Counter(tdf['author_id'])).sort_values(ascending=False)[0:5]"
   ]
  },
  {
   "cell_type": "code",
   "execution_count": 13,
   "metadata": {},
   "outputs": [
    {
     "data": {
      "text/plain": [
       "disabled           247\n",
       "disability         227\n",
       "people              91\n",
       "no                  89\n",
       "person              89\n",
       "@disabledeliza:     85\n",
       "if                  84\n",
       "it’s                81\n",
       "makes               81\n",
       "okay                80\n",
       "dtype: int64"
      ]
     },
     "execution_count": 13,
     "metadata": {},
     "output_type": "execute_result"
    }
   ],
   "source": [
    "pd.Series(Counter(words)).sort_values(ascending=False)[0:10]"
   ]
  },
  {
   "cell_type": "code",
   "execution_count": 14,
   "metadata": {},
   "outputs": [
    {
     "data": {
      "text/html": [
       "<div>\n",
       "<style scoped>\n",
       "    .dataframe tbody tr th:only-of-type {\n",
       "        vertical-align: middle;\n",
       "    }\n",
       "\n",
       "    .dataframe tbody tr th {\n",
       "        vertical-align: top;\n",
       "    }\n",
       "\n",
       "    .dataframe thead th {\n",
       "        text-align: right;\n",
       "    }\n",
       "</style>\n",
       "<table border=\"1\" class=\"dataframe\">\n",
       "  <thead>\n",
       "    <tr style=\"text-align: right;\">\n",
       "      <th></th>\n",
       "      <th>text</th>\n",
       "      <th>id</th>\n",
       "      <th>created_at</th>\n",
       "      <th>author_id</th>\n",
       "    </tr>\n",
       "  </thead>\n",
       "  <tbody>\n",
       "    <tr>\n",
       "      <th>16</th>\n",
       "      <td>RT @DisabledEliza: Faking Disability is INCRED...</td>\n",
       "      <td>1491752903740117002</td>\n",
       "      <td>2022-02-10T12:36:22.000Z</td>\n",
       "      <td>1489750684861931528</td>\n",
       "    </tr>\n",
       "    <tr>\n",
       "      <th>23</th>\n",
       "      <td>My #lift is broken again: since install &amp;lt;1 ...</td>\n",
       "      <td>1491718960202592259</td>\n",
       "      <td>2022-02-10T10:21:29.000Z</td>\n",
       "      <td>1607807521</td>\n",
       "    </tr>\n",
       "    <tr>\n",
       "      <th>49</th>\n",
       "      <td>Disability is not Inability ..\\nOur sveep icon...</td>\n",
       "      <td>1491626470250532867</td>\n",
       "      <td>2022-02-10T04:13:58.000Z</td>\n",
       "      <td>765210626662752256</td>\n",
       "    </tr>\n",
       "    <tr>\n",
       "      <th>52</th>\n",
       "      <td>Disability is not Inability ..\\nMai Hu Sashakt...</td>\n",
       "      <td>1491619860400738306</td>\n",
       "      <td>2022-02-10T03:47:42.000Z</td>\n",
       "      <td>856844041371099136</td>\n",
       "    </tr>\n",
       "    <tr>\n",
       "      <th>93</th>\n",
       "      <td>Each week in Medical Aspects of Disability, we...</td>\n",
       "      <td>1491476508204056580</td>\n",
       "      <td>2022-02-09T18:18:04.000Z</td>\n",
       "      <td>24385427</td>\n",
       "    </tr>\n",
       "    <tr>\n",
       "      <th>...</th>\n",
       "      <td>...</td>\n",
       "      <td>...</td>\n",
       "      <td>...</td>\n",
       "      <td>...</td>\n",
       "    </tr>\n",
       "    <tr>\n",
       "      <th>351</th>\n",
       "      <td>RT @DisabledEliza: If a Disabled person makes ...</td>\n",
       "      <td>1490765062994337803</td>\n",
       "      <td>2022-02-07T19:11:02.000Z</td>\n",
       "      <td>956151105469153280</td>\n",
       "    </tr>\n",
       "    <tr>\n",
       "      <th>352</th>\n",
       "      <td>If a Disabled person makes a joke about their ...</td>\n",
       "      <td>1490764868282109958</td>\n",
       "      <td>2022-02-07T19:10:16.000Z</td>\n",
       "      <td>1247065289268830208</td>\n",
       "    </tr>\n",
       "    <tr>\n",
       "      <th>397</th>\n",
       "      <td>Nominations opened this week for the Shaw Trus...</td>\n",
       "      <td>1490625652722212865</td>\n",
       "      <td>2022-02-07T09:57:04.000Z</td>\n",
       "      <td>412216681</td>\n",
       "    </tr>\n",
       "    <tr>\n",
       "      <th>407</th>\n",
       "      <td>“Disability cannot stop me from becoming a com...</td>\n",
       "      <td>1490585373361197064</td>\n",
       "      <td>2022-02-07T07:17:01.000Z</td>\n",
       "      <td>1006831735080935424</td>\n",
       "    </tr>\n",
       "    <tr>\n",
       "      <th>429</th>\n",
       "      <td>@melmishalex @DasDisabled @Disability_WP @ASho...</td>\n",
       "      <td>1490442946197471238</td>\n",
       "      <td>2022-02-06T21:51:04.000Z</td>\n",
       "      <td>1102037730660245505</td>\n",
       "    </tr>\n",
       "  </tbody>\n",
       "</table>\n",
       "<p>98 rows × 4 columns</p>\n",
       "</div>"
      ],
      "text/plain": [
       "                                                  text                   id  \\\n",
       "16   RT @DisabledEliza: Faking Disability is INCRED...  1491752903740117002   \n",
       "23   My #lift is broken again: since install &lt;1 ...  1491718960202592259   \n",
       "49   Disability is not Inability ..\\nOur sveep icon...  1491626470250532867   \n",
       "52   Disability is not Inability ..\\nMai Hu Sashakt...  1491619860400738306   \n",
       "93   Each week in Medical Aspects of Disability, we...  1491476508204056580   \n",
       "..                                                 ...                  ...   \n",
       "351  RT @DisabledEliza: If a Disabled person makes ...  1490765062994337803   \n",
       "352  If a Disabled person makes a joke about their ...  1490764868282109958   \n",
       "397  Nominations opened this week for the Shaw Trus...  1490625652722212865   \n",
       "407  “Disability cannot stop me from becoming a com...  1490585373361197064   \n",
       "429  @melmishalex @DasDisabled @Disability_WP @ASho...  1490442946197471238   \n",
       "\n",
       "                   created_at            author_id  \n",
       "16   2022-02-10T12:36:22.000Z  1489750684861931528  \n",
       "23   2022-02-10T10:21:29.000Z           1607807521  \n",
       "49   2022-02-10T04:13:58.000Z   765210626662752256  \n",
       "52   2022-02-10T03:47:42.000Z   856844041371099136  \n",
       "93   2022-02-09T18:18:04.000Z             24385427  \n",
       "..                        ...                  ...  \n",
       "351  2022-02-07T19:11:02.000Z   956151105469153280  \n",
       "352  2022-02-07T19:10:16.000Z  1247065289268830208  \n",
       "397  2022-02-07T09:57:04.000Z            412216681  \n",
       "407  2022-02-07T07:17:01.000Z  1006831735080935424  \n",
       "429  2022-02-06T21:51:04.000Z  1102037730660245505  \n",
       "\n",
       "[98 rows x 4 columns]"
      ]
     },
     "execution_count": 14,
     "metadata": {},
     "output_type": "execute_result"
    }
   ],
   "source": [
    "filter_by_word(tdf, 'person')"
   ]
  },
  {
   "cell_type": "code",
   "execution_count": null,
   "metadata": {},
   "outputs": [],
   "source": []
  }
 ],
 "metadata": {
  "interpreter": {
   "hash": "ebe3a2e7003e0b3b096540bcd4790419bf095037bbef025b2c771a76d616e712"
  },
  "kernelspec": {
   "display_name": "Python 3.8.3 ('scrapenv': venv)",
   "language": "python",
   "name": "python3"
  },
  "language_info": {
   "codemirror_mode": {
    "name": "ipython",
    "version": 3
   },
   "file_extension": ".py",
   "mimetype": "text/x-python",
   "name": "python",
   "nbconvert_exporter": "python",
   "pygments_lexer": "ipython3",
   "version": "3.8.3"
  },
  "orig_nbformat": 4
 },
 "nbformat": 4,
 "nbformat_minor": 2
}
